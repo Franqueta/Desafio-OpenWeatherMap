{
 "cells": [
  {
   "cell_type": "markdown",
   "metadata": {},
   "source": [
    "# Código de Desafio Open Weather"
   ]
  },
  {
   "cell_type": "code",
   "execution_count": 1,
   "id": "284c4926-ef5f-4a65-80ae-9ef6767654f5",
   "metadata": {},
   "outputs": [],
   "source": [
    "from pyspark.sql import SparkSession\n",
    "from pyspark.sql.functions import from_unixtime, col, datediff, avg, current_date, date_format\n",
    "import os"
   ]
  },
  {
   "cell_type": "code",
   "execution_count": 2,
   "id": "62c25927-6a04-45e2-a62c-afe1b6550145",
   "metadata": {},
   "outputs": [],
   "source": [
    "os.environ['PYSPARK_SUBMIT_ARGS'] = '--packages org.apache.hadoop:hadoop-aws:3.3.1,io.delta:delta-spark_2.12:3.0.0 --conf \"spark.sql.extensions=io.delta.sql.DeltaSparkSessionExtension\" --conf \"spark.sql.catalog.spark_catalog=org.apache.spark.sql.delta.catalog.DeltaCatalog\" pyspark-shell'"
   ]
  },
  {
   "cell_type": "code",
   "execution_count": 3,
   "id": "c93be54d-59dc-4561-a8a1-ce50149d38ed",
   "metadata": {},
   "outputs": [],
   "source": [
    "spark = SparkSession.builder \\\n",
    "    .appName(\"Data_Analysis\") \\\n",
    "    .config(\"spark.hadoop.fs.s3a.access.key\", \"ueVk36Brq2ZX8gCGGj1w\") \\\n",
    "    .config(\"spark.hadoop.fs.s3a.secret.key\", \"12345678\") \\\n",
    "    .config(\"spark.hadoop.fs.s3a.endpoint\", \"http://172.29.8.228:9000\") \\\n",
    "    .getOrCreate()"
   ]
  },
  {
   "cell_type": "code",
   "execution_count": 4,
   "id": "7d4a29df-15ad-4824-b97c-dde1cc67a848",
   "metadata": {},
   "outputs": [],
   "source": [
    "minio_bucket_name = \"bucketd2d\"\n",
    "minio_path = \"transient/historico\""
   ]
  },
  {
   "cell_type": "code",
   "execution_count": 5,
   "id": "cc631a28-3106-4d87-8da4-3b61f49a08e6",
   "metadata": {},
   "outputs": [],
   "source": [
    "delta_path = f\"s3a://{minio_bucket_name}/{minio_path}\""
   ]
  },
  {
   "cell_type": "code",
   "execution_count": 6,
   "id": "2827c5c3-d8b0-44b2-a793-acbc9bd99734",
   "metadata": {},
   "outputs": [],
   "source": [
    "merged_df = spark.read.format(\"delta\").load(delta_path)"
   ]
  },
  {
   "cell_type": "code",
   "execution_count": 7,
   "id": "ccd5c491-9228-48fe-8f2c-2a41b0866548",
   "metadata": {},
   "outputs": [],
   "source": [
    "merged_df = merged_df.withColumn(\"data_hora\", from_unixtime(\"dt\"))"
   ]
  },
  {
   "cell_type": "code",
   "execution_count": 8,
   "id": "7dfd7fcb-fe08-423e-b2c5-cd079b63961a",
   "metadata": {},
   "outputs": [],
   "source": [
    "merged_df = merged_df.withColumn(\"dias_desde_hoje\", datediff(current_date(), col(\"data_hora\")))"
   ]
  },
  {
   "cell_type": "code",
   "execution_count": 9,
   "id": "974bcb73-e0a7-4d6d-91fd-76aea1ad8230",
   "metadata": {},
   "outputs": [],
   "source": [
    "filtered_df = merged_df.filter((col(\"dias_desde_hoje\") >= 0) & (col(\"dias_desde_hoje\") <= 30))"
   ]
  },
  {
   "cell_type": "markdown",
   "metadata": {},
   "source": [
    "# Analisar a temperatura máxima e mínima para cada cidade em um período de 30 dias e exibir os resultados em uma tabela SQL."
   ]
  },
  {
   "cell_type": "code",
   "execution_count": 10,
   "id": "daaa003b-56b1-4d48-b170-38891301c3f2",
   "metadata": {},
   "outputs": [],
   "source": [
    "result = filtered_df.groupBy(\"city\").agg(avg(\"tempe_max\").alias(\"media_tempe_max\"), avg(\"tempe_min\").alias(\"media_tempe_min\"))"
   ]
  },
  {
   "cell_type": "code",
   "execution_count": 11,
   "id": "09e1175e-f788-468a-8ed4-0dd84411dad8",
   "metadata": {},
   "outputs": [
    {
     "name": "stdout",
     "output_type": "stream",
     "text": [
      "+---------+---------------+---------------+\n",
      "|     city|media_tempe_max|media_tempe_min|\n",
      "+---------+---------------+---------------+\n",
      "|Itabaiana|         27.058|         27.058|\n",
      "|  Lagarto|         27.442|         27.442|\n",
      "|  Aracaju|          27.97|          27.97|\n",
      "+---------+---------------+---------------+\n",
      "\n"
     ]
    }
   ],
   "source": [
    "result.show()"
   ]
  },
  {
   "cell_type": "code",
   "execution_count": 12,
   "id": "9383a4f7-a44d-4660-8e1e-be97bf39e8f6",
   "metadata": {},
   "outputs": [],
   "source": [
    "spark.stop()"
   ]
  },
  {
   "cell_type": "markdown",
   "metadata": {},
   "source": [
    "# Identificar a cidade mais quente e a cidade mais fria em um período de 30 dias e exibir os resultados em uma tabela SQ"
   ]
  },
  {
   "cell_type": "code",
   "execution_count": null,
   "metadata": {},
   "outputs": [],
   "source": [
    "hottest_city = result.orderBy(col(\"media_tempe_max\").desc()).limit(1)\n",
    "coldest_city = result.orderBy(col(\"media_tempe_min\")).limit(1)"
   ]
  },
  {
   "cell_type": "code",
   "execution_count": null,
   "metadata": {},
   "outputs": [],
   "source": [
    "hottest_city.show()\n",
    "coldest_city.show()"
   ]
  },
  {
   "cell_type": "code",
   "execution_count": null,
   "metadata": {},
   "outputs": [],
   "source": [
    "resultado:\n",
    "\n",
    "+-------+---------------+---------------+\n",
    "|   city|media_tempe_max|media_tempe_min|\n",
    "+-------+---------------+---------------+\n",
    "|Aracaju|          27.97|          27.97|\n",
    "+-------+---------------+---------------+\n",
    "\n",
    "+---------+---------------+---------------+\n",
    "|     city|media_tempe_max|media_tempe_min|\n",
    "+---------+---------------+---------------+\n",
    "|Itabaiana|         27.058|         27.058|\n",
    "+---------+---------------+---------------+"
   ]
  },
  {
   "cell_type": "code",
   "execution_count": null,
   "metadata": {},
   "outputs": [],
   "source": [
    "spark.stop()"
   ]
  },
  {
   "cell_type": "markdown",
   "metadata": {},
   "source": [
    "# Calcular a média da temperatura para cada dia em um período de 30 dias e exibir os resultados em uma tabela SQL."
   ]
  },
  {
   "cell_type": "code",
   "execution_count": null,
   "metadata": {},
   "outputs": [],
   "source": [
    "filtered_df = filtered_df.withColumn(\"data\", date_format(col(\"data_hora\"), \"yyyy-MM-dd\"))\n",
    "result = filtered_df.groupBy(\"city\", \"data\").agg(avg(\"tempe_max\").alias(\"media_tempe_max\"), avg(\"tempe_min\").alias(\"media_tempe_min\"))"
   ]
  },
  {
   "cell_type": "code",
   "execution_count": null,
   "metadata": {},
   "outputs": [],
   "source": [
    "result.show()\n",
    "+---------+----------+---------------+---------------+\n",
    "|     city|      data|media_tempe_max|media_tempe_min|\n",
    "+---------+----------+---------------+---------------+\n",
    "|Itabaiana|2023-11-04|          34.55|          34.55|\n",
    "|Itabaiana|2023-11-07|          22.68|          22.68|\n",
    "|  Aracaju|2023-11-08|          26.97|          26.97|\n",
    "|  Lagarto|2023-11-08|          23.44|          23.44|\n",
    "|  Aracaju|2023-11-05|          28.97|          28.97|\n",
    "|  Lagarto|2023-11-05|          32.03|          32.03|\n",
    "|Itabaiana|2023-11-05|           31.9|           31.9|\n",
    "|Itabaiana|2023-11-08|          23.08|          23.08|\n",
    "|  Lagarto|2023-11-04|          35.33|          35.33|\n",
    "|  Aracaju|2023-11-07|          26.97|          26.97|\n",
    "|  Aracaju|2023-11-04|          29.97|          29.97|\n",
    "|  Lagarto|2023-11-07|          22.97|          22.97|\n",
    "+---------+----------+---------------+---------------+"
   ]
  },
  {
   "cell_type": "code",
   "execution_count": null,
   "metadata": {},
   "outputs": [],
   "source": [
    "spark.stop()"
   ]
  },
  {
   "cell_type": "markdown",
   "metadata": {},
   "source": [
    "# Identificar as cidades com as maiores e menores variações de temperatura em um período de 30 dias e exibir os resultados em uma tabela SQL.\n"
   ]
  },
  {
   "cell_type": "code",
   "execution_count": null,
   "metadata": {},
   "outputs": [],
   "source": [
    "result = filtered_df.groupBy(\"city\", \"data\").agg(avg(\"tempe_max\").alias(\"media_tempe_max\"), avg(\"tempe_min\").alias(\"media_tempe_min\"))\n",
    "result = result.withColumn(\"var_temp\", col(\"media_tempe_max\") - col(\"media_tempe_min\"))"
   ]
  },
  {
   "cell_type": "code",
   "execution_count": null,
   "metadata": {},
   "outputs": [],
   "source": [
    "max_var_city = result.orderBy(col(\"var_temp\").desc()).limit(1)\n",
    "min_var_city = result.orderBy(col(\"var_temp\")).limit(1)"
   ]
  },
  {
   "cell_type": "code",
   "execution_count": null,
   "metadata": {},
   "outputs": [],
   "source": [
    "max_var_city.show()\n",
    "min_var_city.show()\n",
    "\n",
    "Resultado:\n",
    "\n",
    "+---------+----------+---------------+---------------+--------+\n",
    "|     city|      data|media_tempe_max|media_tempe_min|var_temp|\n",
    "+---------+----------+---------------+---------------+--------+\n",
    "|Lagarto|2023-11-04|         35.33|          35.33|     0.0|\n",
    "+---------+----------+---------------+---------------+--------+\n",
    "\n",
    "+---------+----------+---------------+---------------+--------+\n",
    "|     city|      data|media_tempe_max|media_tempe_min|var_temp|\n",
    "+---------+----------+---------------+---------------+--------+\n",
    "|Itabaiana|2023-11-07|          22.68|          22.68|     0.0|\n",
    "+---------+----------+---------------+---------------+--------+"
   ]
  },
  {
   "cell_type": "code",
   "execution_count": null,
   "metadata": {},
   "outputs": [],
   "source": [
    "spark.stop()"
   ]
  },
  {
   "cell_type": "markdown",
   "metadata": {},
   "source": [
    "# Obter a previsão do tempo para uma lista de cidades do seu estado nos próximos 7 dias e armazenar os resultados em uma tabela SQL."
   ]
  },
  {
   "cell_type": "code",
   "execution_count": null,
   "metadata": {},
   "outputs": [],
   "source": [
    "filtered_df = merged_df.filter((col(\"dias_desde_hoje\") >= 0) & (col(\"dias_desde_hoje\") <= 7))\n",
    "filtered_df.show()\n",
    "\n",
    "Resultado:\n",
    "+---------+-----+---------+---------+------+------+----------+--------+---------------+--------------------+-------+------+----+----------+-------------------+---------------+----------+\n",
    "|     city|tempo|tempe_max|tempe_min|nuvens|codígo|        dt|timezone|main_feels_like|     weather_explode|     id|  main|icon|weather_id|          data_hora|dias_desde_hoje|      data|\n",
    "+---------+-----+---------+---------+------+------+----------+--------+---------------+--------------------+-------+------+----+----------+-------------------+---------------+----------+\n",
    "|Itabaiana|34.55|    34.55|    34.55|    31|   200|1699107280|  -10800|          35.85|{nuvens dispersas...|3460974|Clouds| 03d|       802|2023-11-04 14:14:40|              4|2023-11-04|\n",
    "|Itabaiana|22.68|    22.68|    22.68|    49|   200|1699321585|  -10800|          23.33|{nuvens dispersas...|3460974|Clouds| 03n|       802|2023-11-07 01:46:25|              1|2023-11-07|\n",
    "|  Lagarto|25.03|    25.03|    25.03|    50|   200|1699477366|  -10800|          25.52|{nuvens dispersas...|3459342|Clouds| 03n|       802|2023-11-08 21:02:46|              0|2023-11-08|\n",
    "|  Aracaju|26.97|    26.97|    26.97|    40|   200|1699477394|  -10800|          29.49|{nuvens dispersas...|3471872|Clouds| 03n|       802|2023-11-08 21:03:14|              0|2023-11-08|\n",
    "|  Aracaju|28.97|    28.97|    28.97|    40|   200|1699185278|  -10800|          33.42|{nuvens dispersas...|3471872|Clouds| 03d|       802|2023-11-05 11:54:38|              3|2023-11-05|\n",
    "|  Lagarto|32.03|    32.03|    32.03|    39|   200|1699185545|  -10800|          33.95|{nuvens dispersas...|3459342|Clouds| 03d|       802|2023-11-05 11:59:05|              3|2023-11-05|\n",
    "|Itabaiana| 31.9|     31.9|     31.9|    23|   200|1699185544|  -10800|           33.5|{algumas nuvens, ...|3460974|Clouds| 02d|       801|2023-11-05 11:59:04|              3|2023-11-05|\n",
    "|Itabaiana|24.62|    24.62|    24.62|    21|   200|1699477380|  -10800|          25.07|{algumas nuvens, ...|3460974|Clouds| 02n|       801|2023-11-08 21:03:00|              0|2023-11-08|\n",
    "|  Aracaju|26.97|    26.97|    26.97|    20|   200|1699409224|  -10800|          29.96|{algumas nuvens, ...|3471872|Clouds| 02n|       801|2023-11-08 02:07:04|              0|2023-11-08|\n",
    "|  Lagarto|35.33|    35.33|    35.33|    24|   200|1699107281|  -10800|          36.93|{algumas nuvens, ...|3459342|Clouds| 02d|       801|2023-11-04 14:14:41|              4|2023-11-04|\n",
    "|  Aracaju|26.97|    26.97|    26.97|    20|   200|1699321682|  -10800|          29.96|{algumas nuvens, ...|3471872|Clouds| 02n|       801|2023-11-07 01:48:02|              1|2023-11-07|\n",
    "|Itabaiana|21.54|    21.54|    21.54|     8|   200|1699409210|  -10800|          22.15|{céu limpo, 01n, ...|3460974| Clear| 01n|       800|2023-11-08 02:06:50|              0|2023-11-08|\n",
    "|  Lagarto|22.97|    22.97|    22.97|    60|   200|1699321693|  -10800|          23.65|{nublado, 04n, 80...|3459342|Clouds| 04n|       803|2023-11-07 01:48:13|              1|2023-11-07|\n",
    "|  Aracaju|29.97|    29.97|    29.97|    75|   200|1699107189|  -10800|          34.97|{nublado, 04d, 80...|3471872|Clouds| 04d|       803|2023-11-04 14:13:09|              4|2023-11-04|\n",
    "|  Lagarto|21.85|    21.85|    21.85|    15|   200|1699409236|  -10800|          22.49|{chuva leve, 10n,...|3459342|  Rain| 10n|       500|2023-11-08 02:07:16|              0|2023-11-08|\n",
    "+---------+-----+---------+---------+------+------+----------+--------+---------------+--------------------+-------+------+----+----------+-------------------+---------------+----------+\n"
   ]
  },
  {
   "cell_type": "markdown",
   "metadata": {},
   "source": [
    "# Identificar a cidade com a maior quantidade de dias chuvosos em um período de 30 dias e exibir o resultado em uma tabela SQL."
   ]
  },
  {
   "cell_type": "code",
   "execution_count": null,
   "metadata": {},
   "outputs": [],
   "source": [
    "rainy_days_df = filtered_df.filter(expr(\"lower(weather_explode.description) like '%chuva%'\"))\n",
    "rainy_days_count = rainy_days_df.groupBy(\"city\").count()\n",
    "max_rainy_days_city = rainy_days_count.orderBy(col(\"count\").desc()).first()"
   ]
  },
  {
   "cell_type": "code",
   "execution_count": null,
   "metadata": {},
   "outputs": [],
   "source": [
    "max_rainy_days_city_name = max_rainy_days_city[\"city\"]\n",
    "print(f\"A cidade com a maior quantidade de dias chuvosos é: {max_rainy_days_city_name}\")\n",
    "\n",
    "Resultado:\n",
    "A cidade com a maior quantidade de dias chuvosos é: Lagarto"
   ]
  },
  {
   "cell_type": "code",
   "execution_count": null,
   "metadata": {},
   "outputs": [],
   "source": [
    "spark.stop()"
   ]
  },
  {
   "cell_type": "markdown",
   "metadata": {},
   "source": []
  }
 ],
 "metadata": {
  "kernelspec": {
   "display_name": "Python 3 (ipykernel)",
   "language": "python",
   "name": "python3"
  },
  "language_info": {
   "codemirror_mode": {
    "name": "ipython",
    "version": 3
   },
   "file_extension": ".py",
   "mimetype": "text/x-python",
   "name": "python",
   "nbconvert_exporter": "python",
   "pygments_lexer": "ipython3",
   "version": "3.11.6"
  }
 },
 "nbformat": 4,
 "nbformat_minor": 5
}
