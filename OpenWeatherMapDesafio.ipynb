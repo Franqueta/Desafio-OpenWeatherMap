{
 "cells": [
  {
   "cell_type": "code",
   "execution_count": 1,
   "id": "284c4926-ef5f-4a65-80ae-9ef6767654f5",
   "metadata": {},
   "outputs": [],
   "source": [
    "from pyspark.sql import SparkSession\n",
    "from pyspark.sql.functions import from_unixtime, col, datediff, avg, current_date\n",
    "import os"
   ]
  },
  {
   "cell_type": "code",
   "execution_count": 2,
   "id": "62c25927-6a04-45e2-a62c-afe1b6550145",
   "metadata": {},
   "outputs": [],
   "source": [
    "os.environ['PYSPARK_SUBMIT_ARGS'] = '--packages org.apache.hadoop:hadoop-aws:3.3.1,io.delta:delta-spark_2.12:3.0.0 --conf \"spark.sql.extensions=io.delta.sql.DeltaSparkSessionExtension\" --conf \"spark.sql.catalog.spark_catalog=org.apache.spark.sql.delta.catalog.DeltaCatalog\" pyspark-shell'"
   ]
  },
  {
   "cell_type": "code",
   "execution_count": 3,
   "id": "c93be54d-59dc-4561-a8a1-ce50149d38ed",
   "metadata": {},
   "outputs": [],
   "source": [
    "spark = SparkSession.builder \\\n",
    "    .appName(\"Data_Analysis\") \\\n",
    "    .config(\"spark.hadoop.fs.s3a.access.key\", \"ueVk36Brq2ZX8gCGGj1w\") \\\n",
    "    .config(\"spark.hadoop.fs.s3a.secret.key\", \"12345678\") \\\n",
    "    .config(\"spark.hadoop.fs.s3a.endpoint\", \"http://172.29.8.228:9000\") \\\n",
    "    .getOrCreate()"
   ]
  },
  {
   "cell_type": "code",
   "execution_count": 4,
   "id": "7d4a29df-15ad-4824-b97c-dde1cc67a848",
   "metadata": {},
   "outputs": [],
   "source": [
    "minio_bucket_name = \"bucketd2d\"\n",
    "minio_path = \"transient/historico\""
   ]
  },
  {
   "cell_type": "code",
   "execution_count": 5,
   "id": "cc631a28-3106-4d87-8da4-3b61f49a08e6",
   "metadata": {},
   "outputs": [],
   "source": [
    "delta_path = f\"s3a://{minio_bucket_name}/{minio_path}\""
   ]
  },
  {
   "cell_type": "code",
   "execution_count": 6,
   "id": "2827c5c3-d8b0-44b2-a793-acbc9bd99734",
   "metadata": {},
   "outputs": [],
   "source": [
    "merged_df = spark.read.format(\"delta\").load(delta_path)"
   ]
  },
  {
   "cell_type": "code",
   "execution_count": 7,
   "id": "ccd5c491-9228-48fe-8f2c-2a41b0866548",
   "metadata": {},
   "outputs": [],
   "source": [
    "merged_df = merged_df.withColumn(\"data_hora\", from_unixtime(\"dt\"))"
   ]
  },
  {
   "cell_type": "code",
   "execution_count": 8,
   "id": "7dfd7fcb-fe08-423e-b2c5-cd079b63961a",
   "metadata": {},
   "outputs": [],
   "source": [
    "merged_df = merged_df.withColumn(\"dias_desde_hoje\", datediff(current_date(), col(\"data_hora\")))"
   ]
  },
  {
   "cell_type": "code",
   "execution_count": 9,
   "id": "974bcb73-e0a7-4d6d-91fd-76aea1ad8230",
   "metadata": {},
   "outputs": [],
   "source": [
    "filtered_df = merged_df.filter((col(\"dias_desde_hoje\") >= 0) & (col(\"dias_desde_hoje\") <= 30))"
   ]
  },
  {
   "cell_type": "code",
   "execution_count": 10,
   "id": "daaa003b-56b1-4d48-b170-38891301c3f2",
   "metadata": {},
   "outputs": [],
   "source": [
    "result = filtered_df.groupBy(\"city\").agg(avg(\"tempe_max\").alias(\"media_tempe_max\"), avg(\"tempe_min\").alias(\"media_tempe_min\"))"
   ]
  },
  {
   "cell_type": "code",
   "execution_count": 11,
   "id": "09e1175e-f788-468a-8ed4-0dd84411dad8",
   "metadata": {},
   "outputs": [
    {
     "name": "stdout",
     "output_type": "stream",
     "text": [
      "+---------+---------------+---------------+\n",
      "|     city|media_tempe_max|media_tempe_min|\n",
      "+---------+---------------+---------------+\n",
      "|Itabaiana|         27.058|         27.058|\n",
      "|  Lagarto|         27.442|         27.442|\n",
      "|  Aracaju|          27.97|          27.97|\n",
      "+---------+---------------+---------------+\n",
      "\n"
     ]
    }
   ],
   "source": [
    "result.show()"
   ]
  },
  {
   "cell_type": "code",
   "execution_count": 12,
   "id": "9383a4f7-a44d-4660-8e1e-be97bf39e8f6",
   "metadata": {},
   "outputs": [],
   "source": [
    "spark.stop()"
   ]
  }
 ],
 "metadata": {
  "kernelspec": {
   "display_name": "Python 3 (ipykernel)",
   "language": "python",
   "name": "python3"
  },
  "language_info": {
   "codemirror_mode": {
    "name": "ipython",
    "version": 3
   },
   "file_extension": ".py",
   "mimetype": "text/x-python",
   "name": "python",
   "nbconvert_exporter": "python",
   "pygments_lexer": "ipython3",
   "version": "3.11.6"
  }
 },
 "nbformat": 4,
 "nbformat_minor": 5
}
